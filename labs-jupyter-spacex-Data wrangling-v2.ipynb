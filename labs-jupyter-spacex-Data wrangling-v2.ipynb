{
 "cells": [
  {
   "cell_type": "markdown",
   "metadata": {},
   "source": [
    "<p style=\"text-align:center\">\n",
    "    <a href=\"https://skills.network\" target=\"_blank\">\n",
    "    <img src=\"https://cf-courses-data.s3.us.cloud-object-storage.appdomain.cloud/assets/logos/SN_web_lightmode.png\" width=\"200\" alt=\"Skills Network Logo\">\n",
    "    </a>\n",
    "</p>\n"
   ]
  },
  {
   "cell_type": "markdown",
   "metadata": {},
   "source": [
    "# **Space X  Falcon 9 First Stage Landing Prediction**\n"
   ]
  },
  {
   "cell_type": "markdown",
   "metadata": {},
   "source": [
    " ## Lab 2: Data wrangling \n"
   ]
  },
  {
   "cell_type": "markdown",
   "metadata": {},
   "source": [
    "Estimated time needed: **60** minutes\n"
   ]
  },
  {
   "cell_type": "markdown",
   "metadata": {},
   "source": [
    "In this lab, we will perform some Exploratory Data Analysis (EDA) to find some patterns in the data and determine what would be the label for training supervised models. \n",
    "\n",
    "In the data set, there are several different cases where the booster did not land successfully. Sometimes a landing was attempted but failed due to an accident; for example, <code>True Ocean</code> means the mission outcome was successfully  landed to a specific region of the ocean while <code>False Ocean</code> means the mission outcome was unsuccessfully landed to a specific region of the ocean. <code>True RTLS</code> means the mission outcome was successfully  landed to a ground pad <code>False RTLS</code> means the mission outcome was unsuccessfully landed to a ground pad.<code>True ASDS</code> means the mission outcome was successfully landed on  a drone ship <code>False ASDS</code> means the mission outcome was unsuccessfully landed on a drone ship. \n",
    "\n",
    "In this lab we will mainly convert those outcomes into Training Labels with `1` means the booster successfully landed `0` means it was unsuccessful.\n"
   ]
  },
  {
   "cell_type": "markdown",
   "metadata": {},
   "source": [
    "Falcon 9 first stage will land successfully\n"
   ]
  },
  {
   "cell_type": "markdown",
   "metadata": {},
   "source": [
    "![](https://cf-courses-data.s3.us.cloud-object-storage.appdomain.cloud/IBMDeveloperSkillsNetwork-DS0701EN-SkillsNetwork/api/Images/landing_1.gif)\n"
   ]
  },
  {
   "cell_type": "markdown",
   "metadata": {},
   "source": [
    "Several examples of an unsuccessful landing are shown here:\n"
   ]
  },
  {
   "cell_type": "markdown",
   "metadata": {},
   "source": [
    "![](https://cf-courses-data.s3.us.cloud-object-storage.appdomain.cloud/IBMDeveloperSkillsNetwork-DS0701EN-SkillsNetwork/api/Images/crash.gif)\n"
   ]
  },
  {
   "cell_type": "markdown",
   "metadata": {},
   "source": [
    "   \n"
   ]
  },
  {
   "cell_type": "markdown",
   "metadata": {},
   "source": [
    "## Objectives\n",
    "Perform exploratory  Data Analysis and determine Training Labels \n",
    "\n",
    "- Exploratory Data Analysis\n",
    "- Determine Training Labels \n"
   ]
  },
  {
   "cell_type": "markdown",
   "metadata": {},
   "source": [
    "----\n"
   ]
  },
  {
   "cell_type": "markdown",
   "metadata": {},
   "source": [
    "Install the below libraries\n"
   ]
  },
  {
   "cell_type": "code",
   "execution_count": null,
   "metadata": {},
   "outputs": [],
   "source": [
    "!pip install pandas\n",
    "!pip install numpy"
   ]
  },
  {
   "cell_type": "markdown",
   "metadata": {},
   "source": [
    "## Import Libraries and Define Auxiliary Functions\n"
   ]
  },
  {
   "cell_type": "markdown",
   "metadata": {},
   "source": [
    "We will import the following libraries.\n"
   ]
  },
  {
   "cell_type": "code",
   "execution_count": null,
   "metadata": {},
   "outputs": [],
   "source": [
    "# Pandas is a software library written for the Python programming language for data manipulation and analysis.\n",
    "import pandas as pd\n",
    "#NumPy is a library for the Python programming language, adding support for large, multi-dimensional arrays and matrices, along with a large collection of high-level mathematical functions to operate on these arrays\n",
    "import numpy as np"
   ]
  },
  {
   "cell_type": "markdown",
   "metadata": {},
   "source": [
    "### Data Analysis \n"
   ]
  },
  {
   "cell_type": "markdown",
   "metadata": {},
   "source": [
    "Load Space X dataset, from last section.\n"
   ]
  },
  {
   "cell_type": "code",
   "execution_count": null,
   "metadata": {},
   "outputs": [],
   "source": [
    "df=pd.read_csv(\"https://cf-courses-data.s3.us.cloud-object-storage.appdomain.cloud/IBM-DS0321EN-SkillsNetwork/datasets/dataset_part_1.csv\")\n",
    "df.head(10)"
   ]
  },
  {
   "cell_type": "markdown",
   "metadata": {},
   "source": [
    "Identify and calculate the percentage of the missing values in each attribute\n"
   ]
  },
  {
   "cell_type": "code",
   "execution_count": null,
   "metadata": {},
   "outputs": [],
   "source": [
    "df.isnull().sum()/len(df)*100"
   ]
  },
  {
   "cell_type": "markdown",
   "metadata": {},
   "source": [
    "Identify which columns are numerical and categorical:\n"
   ]
  },
  {
   "cell_type": "code",
   "execution_count": null,
   "metadata": {},
   "outputs": [],
   "source": [
    "df.dtypes"
   ]
  },
  {
   "cell_type": "markdown",
   "metadata": {},
   "source": [
    "### TASK 1: Calculate the number of launches on each site\n",
    "\n",
    "The data contains several Space X  launch facilities: <a href='https://en.wikipedia.org/wiki/List_of_Cape_Canaveral_and_Merritt_Island_launch_sites'>Cape Canaveral Space</a> Launch Complex 40  <b>VAFB SLC 4E </b> , Vandenberg Air Force Base Space Launch Complex 4E <b>(SLC-4E)</b>, Kennedy Space Center Launch Complex 39A <b>KSC LC 39A </b>.The location of each Launch Is placed in the column <code>LaunchSite</code>\n"
   ]
  },
  {
   "cell_type": "markdown",
   "metadata": {},
   "source": [
    "Next, let's see the number of launches for each site.\n",
    "\n",
    "Use the method  <code>value_counts()</code> on the column <code>LaunchSite</code> to determine the number of launches  on each site: \n"
   ]
  },
  {
   "cell_type": "code",
   "execution_count": null,
   "metadata": {},
   "outputs": [],
   "source": [
    "# Apply value_counts() on column LaunchSite\n"
   ]
  },
  {
   "cell_type": "markdown",
   "metadata": {},
   "source": [
    "Each launch aims to an dedicated orbit, and here are some common orbit types:\n"
   ]
  },
  {
   "cell_type": "markdown",
   "metadata": {},
   "source": [
    "\n",
    "\n",
    "* <b>LEO</b>: Low Earth orbit (LEO)is an Earth-centred orbit with an altitude of 2,000 km (1,200 mi) or less (approximately one-third of the radius of Earth),[1] or with at least 11.25 periods per day (an orbital period of 128 minutes or less) and an eccentricity less than 0.25.[2] Most of the manmade objects in outer space are in LEO <a href='https://en.wikipedia.org/wiki/Low_Earth_orbit'>[1]</a>.\n",
    "\n",
    "* <b>VLEO</b>: Very Low Earth Orbits (VLEO) can be defined as the orbits with a mean altitude below 450 km. Operating in these orbits can provide a number of benefits to Earth observation spacecraft as the spacecraft operates closer to the observation<a href='https://www.researchgate.net/publication/271499606_Very_Low_Earth_Orbit_mission_concepts_for_Earth_Observation_Benefits_and_challenges'>[2]</a>.\n",
    "\n",
    "\n",
    "* <b>GTO</b> A geosynchronous orbit is a high Earth orbit that allows satellites to match Earth's rotation. Located at 22,236 miles (35,786 kilometers) above Earth's equator, this position is a valuable spot for monitoring weather, communications and surveillance. Because the satellite orbits at the same speed that the Earth is turning, the satellite seems to stay in place over a single longitude, though it may drift north to south,” NASA wrote on its Earth Observatory website <a  href=\"https://www.space.com/29222-geosynchronous-orbit.html\" >[3] </a>.\n",
    "\n",
    "\n",
    "* <b>SSO (or SO)</b>: It is a Sun-synchronous orbit  also called a heliosynchronous orbit is a nearly polar orbit around a planet, in which the satellite passes over any given point of the planet's surface at the same local mean solar time <a href=\"https://en.wikipedia.org/wiki/Sun-synchronous_orbit\">[4] <a>.\n",
    "    \n",
    "    \n",
    "    \n",
    "* <b>ES-L1 </b>:At the Lagrange points the gravitational forces of the two large bodies cancel out in such a way that a small object placed in orbit there is in equilibrium relative to the center of mass of the large bodies. L1 is one such point between the sun and the earth <a href=\"https://en.wikipedia.org/wiki/Lagrange_point#L1_point\">[5]</a> .\n",
    "    \n",
    "    \n",
    "* <b>HEO</b> A highly elliptical orbit, is an elliptic orbit with high eccentricity, usually referring to one around Earth <a href=\"https://en.wikipedia.org/wiki/Highly_elliptical_orbit\">[6]</a>.\n",
    "\n",
    "\n",
    "* <b> ISS </b> A modular space station (habitable artificial satellite) in low Earth orbit. It is a multinational collaborative project between five participating space agencies: NASA (United States), Roscosmos (Russia), JAXA (Japan), ESA (Europe), and CSA (Canada)<a href=\"https://en.wikipedia.org/wiki/International_Space_Station\"> [7] </a>\n",
    "\n",
    "\n",
    "* <b> MEO </b> Geocentric orbits ranging in altitude from 2,000 km (1,200 mi) to just below geosynchronous orbit at 35,786 kilometers (22,236 mi). Also known as an intermediate circular orbit. These are \"most commonly at 20,200 kilometers (12,600 mi), or 20,650 kilometers (12,830 mi), with an orbital period of 12 hours <a href=\"https://en.wikipedia.org/wiki/List_of_orbits\"> [8] </a>\n",
    "\n",
    "\n",
    "* <b> HEO </b> Geocentric orbits above the altitude of geosynchronous orbit (35,786 km or 22,236 mi) <a href=\"https://en.wikipedia.org/wiki/List_of_orbits\"> [9] </a>\n",
    "\n",
    "\n",
    "* <b> GEO </b> It is a circular geosynchronous orbit 35,786 kilometres (22,236 miles) above Earth's equator and following the direction of Earth's rotation <a href=\"https://en.wikipedia.org/wiki/Geostationary_orbit\"> [10] </a>\n",
    "\n",
    "\n",
    "* <b> PO </b> It is one type of satellites in which a satellite passes above or nearly above both poles of the body being orbited (usually a planet such as the Earth <a href=\"https://en.wikipedia.org/wiki/Polar_orbit\"> [11] </a>\n",
    "\n",
    "some are shown in the following plot:\n"
   ]
  },
  {
   "cell_type": "markdown",
   "metadata": {},
   "source": [
    "![](https://cf-courses-data.s3.us.cloud-object-storage.appdomain.cloud/IBMDeveloperSkillsNetwork-DS0701EN-SkillsNetwork/api/Images/Orbits.png)\n"
   ]
  },
  {
   "cell_type": "markdown",
   "metadata": {},
   "source": [
    "### TASK 2: Calculate the number and occurrence of each orbit\n"
   ]
  },
  {
   "cell_type": "markdown",
   "metadata": {},
   "source": [
    " Use the method  <code>.value_counts()</code> to determine the number and occurrence of each orbit in the  column <code>Orbit</code>\n"
   ]
  },
  {
   "cell_type": "code",
   "execution_count": null,
   "metadata": {},
   "outputs": [],
   "source": [
    "# Apply value_counts on Orbit column"
   ]
  },
  {
   "cell_type": "markdown",
   "metadata": {},
   "source": [
    "### TASK 3: Calculate the number and occurence of mission outcome of the orbits\n"
   ]
  },
  {
   "cell_type": "markdown",
   "metadata": {},
   "source": [
    "Use the method <code>.value_counts()</code> on the column <code>Outcome</code> to determine the number of <code>landing_outcomes</code>.Then assign it to a variable landing_outcomes.\n"
   ]
  },
  {
   "cell_type": "code",
   "execution_count": null,
   "metadata": {},
   "outputs": [],
   "source": [
    "# landing_outcomes = values on Outcome column"
   ]
  },
  {
   "cell_type": "markdown",
   "metadata": {},
   "source": [
    "<code>True Ocean</code> means the mission outcome was successfully  landed to a specific region of the ocean while <code>False Ocean</code> means the mission outcome was unsuccessfully landed to a specific region of the ocean. <code>True RTLS</code> means the mission outcome was successfully  landed to a ground pad <code>False RTLS</code> means the mission outcome was unsuccessfully landed to a ground pad.<code>True ASDS</code> means the mission outcome was successfully  landed to a drone ship <code>False ASDS</code> means the mission outcome was unsuccessfully landed to a drone ship. <code>None ASDS</code> and <code>None None</code> these represent a failure to land.\n"
   ]
  },
  {
   "cell_type": "code",
   "execution_count": null,
   "metadata": {},
   "outputs": [],
   "source": [
    "for i,outcome in enumerate(landing_outcomes.keys()):\n",
    "    print(i,outcome)"
   ]
  },
  {
   "cell_type": "markdown",
   "metadata": {},
   "source": [
    "We create a set of outcomes where the second stage did not land successfully:\n"
   ]
  },
  {
   "cell_type": "code",
   "execution_count": null,
   "metadata": {},
   "outputs": [],
   "source": [
    "bad_outcomes=set(landing_outcomes.keys()[[1,3,5,6,7]])\n",
    "bad_outcomes"
   ]
  },
  {
   "cell_type": "markdown",
   "metadata": {},
   "source": [
    "### TASK 4: Create a landing outcome label from Outcome column\n"
   ]
  },
  {
   "cell_type": "markdown",
   "metadata": {},
   "source": [
    "Using the <code>Outcome</code>,  create a list where the element is zero if the corresponding  row  in  <code>Outcome</code> is in the set <code>bad_outcome</code>; otherwise, it's one. Then assign it to the variable <code>landing_class</code>:\n"
   ]
  },
  {
   "cell_type": "code",
   "execution_count": null,
   "metadata": {},
   "outputs": [],
   "source": [
    "# landing_class = 0 if bad_outcome\n",
    "# landing_class = 1 otherwise"
   ]
  },
  {
   "cell_type": "markdown",
   "metadata": {},
   "source": [
    "This variable will represent the classification variable that represents the outcome of each launch. If the value is zero, the  first stage did not land successfully; one means  the first stage landed Successfully \n"
   ]
  },
  {
   "cell_type": "code",
   "execution_count": null,
   "metadata": {},
   "outputs": [],
   "source": [
    "df['Class']=landing_class\n",
    "df[['Class']].head(8)"
   ]
  },
  {
   "cell_type": "code",
   "execution_count": null,
   "metadata": {},
   "outputs": [],
   "source": [
    "df.head(5)"
   ]
  },
  {
   "cell_type": "markdown",
   "metadata": {},
   "source": [
    "We can use the following line of code to determine  the success rate:\n"
   ]
  },
  {
   "cell_type": "code",
   "execution_count": null,
   "metadata": {},
   "outputs": [],
   "source": [
    "df[\"Class\"].mean()"
   ]
  },
  {
   "cell_type": "markdown",
   "metadata": {},
   "source": [
    "We can now export it to a CSV for the next section,but to make the answers consistent, in the next lab we will provide data in a pre-selected date range.\n"
   ]
  },
  {
   "cell_type": "markdown",
   "metadata": {},
   "source": [
    "<code>df.to_csv(\"dataset_part_2.csv\", index=False)</code>\n"
   ]
  },
  {
   "cell_type": "code",
   "execution_count": 1,
   "metadata": {},
   "outputs": [
    {
     "name": "stdout",
     "output_type": "stream",
     "text": [
      "Libraries imported successfully!\n",
      "Dataset loaded successfully!\n",
      "Dataset shape: (90, 17)\n",
      "\n",
      "First 10 rows of the dataset:\n",
      "\n",
      "=== MISSING VALUES ANALYSIS ===\n",
      "Missing values percentage in each column:\n",
      "FlightNumber: 0.00%\n",
      "Date: 0.00%\n",
      "BoosterVersion: 0.00%\n",
      "PayloadMass: 0.00%\n",
      "Orbit: 0.00%\n",
      "LaunchSite: 0.00%\n",
      "Outcome: 0.00%\n",
      "Flights: 0.00%\n",
      "GridFins: 0.00%\n",
      "Reused: 0.00%\n",
      "Legs: 0.00%\n",
      "LandingPad: 28.89%\n",
      "Block: 0.00%\n",
      "ReusedCount: 0.00%\n",
      "Serial: 0.00%\n",
      "Longitude: 0.00%\n",
      "Latitude: 0.00%\n",
      "\n",
      "=== DATA TYPES ANALYSIS ===\n",
      "Data types of each column:\n",
      "FlightNumber: int64\n",
      "Date: object\n",
      "BoosterVersion: object\n",
      "PayloadMass: float64\n",
      "Orbit: object\n",
      "LaunchSite: object\n",
      "Outcome: object\n",
      "Flights: int64\n",
      "GridFins: bool\n",
      "Reused: bool\n",
      "Legs: bool\n",
      "LandingPad: object\n",
      "Block: float64\n",
      "ReusedCount: int64\n",
      "Serial: object\n",
      "Longitude: float64\n",
      "Latitude: float64\n",
      "\n",
      "=== TASK 1: NUMBER OF LAUNCHES PER SITE ===\n",
      "Number of launches per site:\n",
      "LaunchSite\n",
      "CCAFS SLC 40    55\n",
      "KSC LC 39A      22\n",
      "VAFB SLC 4E     13\n",
      "Name: count, dtype: int64\n",
      "\n",
      "Launch sites analysis:\n",
      "CCAFS SLC 40: 55 launches (61.1%)\n",
      "KSC LC 39A: 22 launches (24.4%)\n",
      "VAFB SLC 4E: 13 launches (14.4%)\n",
      "\n",
      "=== TASK 2: NUMBER OF LAUNCHES PER ORBIT ===\n",
      "Number of launches per orbit type:\n",
      "Orbit\n",
      "GTO      27\n",
      "ISS      21\n",
      "VLEO     14\n",
      "PO        9\n",
      "LEO       7\n",
      "SSO       5\n",
      "MEO       3\n",
      "HEO       1\n",
      "ES-L1     1\n",
      "SO        1\n",
      "GEO       1\n",
      "Name: count, dtype: int64\n",
      "\n",
      "Orbit types analysis:\n",
      "GTO: 27 launches (30.0%)\n",
      "ISS: 21 launches (23.3%)\n",
      "VLEO: 14 launches (15.6%)\n",
      "PO: 9 launches (10.0%)\n",
      "LEO: 7 launches (7.8%)\n",
      "SSO: 5 launches (5.6%)\n",
      "MEO: 3 launches (3.3%)\n",
      "HEO: 1 launches (1.1%)\n",
      "ES-L1: 1 launches (1.1%)\n",
      "SO: 1 launches (1.1%)\n",
      "GEO: 1 launches (1.1%)\n",
      "\n",
      "=== TASK 3: MISSION OUTCOMES ANALYSIS ===\n",
      "Landing outcomes frequency:\n",
      "Outcome\n",
      "True ASDS      41\n",
      "None None      19\n",
      "True RTLS      14\n",
      "False ASDS      6\n",
      "True Ocean      5\n",
      "False Ocean     2\n",
      "None ASDS       2\n",
      "False RTLS      1\n",
      "Name: count, dtype: int64\n",
      "\n",
      "Detailed outcome analysis:\n",
      "0: True ASDS - 41 occurrences (45.6%)\n",
      "1: None None - 19 occurrences (21.1%)\n",
      "2: True RTLS - 14 occurrences (15.6%)\n",
      "3: False ASDS - 6 occurrences (6.7%)\n",
      "4: True Ocean - 5 occurrences (5.6%)\n",
      "5: False Ocean - 2 occurrences (2.2%)\n",
      "6: None ASDS - 2 occurrences (2.2%)\n",
      "7: False RTLS - 1 occurrences (1.1%)\n",
      "\n",
      "=== IDENTIFYING UNSUCCESSFUL LANDINGS ===\n",
      "All outcome types:\n",
      "0: True ASDS\n",
      "1: None None\n",
      "2: True RTLS\n",
      "3: False ASDS\n",
      "4: True Ocean\n",
      "5: False Ocean\n",
      "6: None ASDS\n",
      "7: False RTLS\n",
      "\n",
      "Bad outcomes (unsuccessful landings): {'None None', 'False ASDS', 'None ASDS', 'False Ocean', 'False RTLS'}\n",
      "\n",
      "=== TASK 4: CREATING LANDING CLASS LABELS ===\n",
      "Landing class labels created!\n",
      "Total unsuccessful landings (Class=0): 30\n",
      "Total successful landings (Class=1): 60\n",
      "\n",
      "First 8 rows showing the new Class column:\n",
      "       Outcome  Class\n",
      "0    None None      0\n",
      "1    None None      0\n",
      "2    None None      0\n",
      "3  False Ocean      0\n",
      "4    None None      0\n",
      "5    None None      0\n",
      "6   True Ocean      1\n",
      "7   True Ocean      1\n",
      "\n",
      "=== SUCCESS RATE ANALYSIS ===\n",
      "Overall success rate: 0.6667 (66.67%)\n",
      "\n",
      "=== FINAL DATASET SUMMARY ===\n",
      "Total launches: 90\n",
      "Successful landings: 60\n",
      "Unsuccessful landings: 30\n",
      "Success rate: 66.67%\n",
      "\n",
      "Final dataset preview (first 5 rows):\n",
      "   FlightNumber        Date    LaunchSite Orbit      Outcome  Class\n",
      "0             1  2010-06-04  CCAFS SLC 40   LEO    None None      0\n",
      "1             2  2012-05-22  CCAFS SLC 40   LEO    None None      0\n",
      "2             3  2013-03-01  CCAFS SLC 40   ISS    None None      0\n",
      "3             4  2013-09-29   VAFB SLC 4E    PO  False Ocean      0\n",
      "4             5  2013-12-03  CCAFS SLC 40   GTO    None None      0\n",
      "\n",
      "=== CLASS DISTRIBUTION ===\n",
      "Class distribution:\n",
      "Class 0 (Unsuccessful): 30 (33.3%)\n",
      "Class 1 (Successful): 60 (66.7%)\n",
      "\n",
      "=== SUCCESS RATE BY LAUNCH SITE ===\n",
      "              Total_Launches  Successful_Landings  Success_Rate  \\\n",
      "LaunchSite                                                        \n",
      "CCAFS SLC 40              55                   33        0.6000   \n",
      "KSC LC 39A                22                   17        0.7727   \n",
      "VAFB SLC 4E               13                   10        0.7692   \n",
      "\n",
      "              Success_Percentage  \n",
      "LaunchSite                        \n",
      "CCAFS SLC 40             60.0000  \n",
      "KSC LC 39A               77.2727  \n",
      "VAFB SLC 4E              76.9231  \n",
      "\n",
      "=== SUCCESS RATE BY ORBIT TYPE ===\n",
      "       Total_Launches  Successful_Landings  Success_Rate  Success_Percentage\n",
      "Orbit                                                                       \n",
      "ES-L1               1                    1        1.0000            100.0000\n",
      "GEO                 1                    1        1.0000            100.0000\n",
      "HEO                 1                    1        1.0000            100.0000\n",
      "SSO                 5                    5        1.0000            100.0000\n",
      "VLEO               14                   12        0.8571             85.7143\n",
      "LEO                 7                    5        0.7143             71.4286\n",
      "PO                  9                    6        0.6667             66.6667\n",
      "MEO                 3                    2        0.6667             66.6667\n",
      "ISS                21                   13        0.6190             61.9048\n",
      "GTO                27                   14        0.5185             51.8519\n",
      "SO                  1                    0        0.0000              0.0000\n",
      "\n",
      "=== DATA WRANGLING COMPLETED ===\n",
      "The dataset is now ready for machine learning!\n",
      "Key achievements:\n",
      "1. ✓ Analyzed missing values\n",
      "2. ✓ Identified data types\n",
      "3. ✓ Calculated launches per site\n",
      "4. ✓ Analyzed orbit distributions\n",
      "5. ✓ Created binary classification labels\n",
      "6. ✓ Calculated overall success rate\n",
      "7. ✓ Analyzed success rates by site and orbit\n"
     ]
    }
   ],
   "source": [
    "# SpaceX Falcon 9 First Stage Landing Prediction\n",
    "## Lab 2: Data Wrangling - Complete Solution\n",
    "\n",
    "# Import necessary libraries\n",
    "import pandas as pd\n",
    "import numpy as np\n",
    "\n",
    "print(\"Libraries imported successfully!\")\n",
    "\n",
    "# Load the SpaceX dataset\n",
    "df = pd.read_csv(\"https://cf-courses-data.s3.us.cloud-object-storage.appdomain.cloud/IBM-DS0321EN-SkillsNetwork/datasets/dataset_part_1.csv\")\n",
    "\n",
    "print(\"Dataset loaded successfully!\")\n",
    "print(f\"Dataset shape: {df.shape}\")\n",
    "print(\"\\nFirst 10 rows of the dataset:\")\n",
    "df.head(10)\n",
    "\n",
    "# Check for missing values\n",
    "print(\"\\n=== MISSING VALUES ANALYSIS ===\")\n",
    "missing_percentages = df.isnull().sum() / len(df) * 100\n",
    "print(\"Missing values percentage in each column:\")\n",
    "for col, percentage in missing_percentages.items():\n",
    "    if percentage > 0:\n",
    "        print(f\"{col}: {percentage:.2f}%\")\n",
    "    else:\n",
    "        print(f\"{col}: 0.00%\")\n",
    "\n",
    "# Identify data types\n",
    "print(\"\\n=== DATA TYPES ANALYSIS ===\")\n",
    "print(\"Data types of each column:\")\n",
    "for col, dtype in df.dtypes.items():\n",
    "    print(f\"{col}: {dtype}\")\n",
    "\n",
    "# TASK 1: Calculate the number of launches on each site\n",
    "print(\"\\n=== TASK 1: NUMBER OF LAUNCHES PER SITE ===\")\n",
    "launch_site_counts = df['LaunchSite'].value_counts()\n",
    "print(\"Number of launches per site:\")\n",
    "print(launch_site_counts)\n",
    "\n",
    "print(\"\\nLaunch sites analysis:\")\n",
    "for site, count in launch_site_counts.items():\n",
    "    percentage = (count / len(df)) * 100\n",
    "    print(f\"{site}: {count} launches ({percentage:.1f}%)\")\n",
    "\n",
    "# TASK 2: Calculate the number and occurrence of each orbit\n",
    "print(\"\\n=== TASK 2: NUMBER OF LAUNCHES PER ORBIT ===\")\n",
    "orbit_counts = df['Orbit'].value_counts()\n",
    "print(\"Number of launches per orbit type:\")\n",
    "print(orbit_counts)\n",
    "\n",
    "print(\"\\nOrbit types analysis:\")\n",
    "for orbit, count in orbit_counts.items():\n",
    "    percentage = (count / len(df)) * 100\n",
    "    print(f\"{orbit}: {count} launches ({percentage:.1f}%)\")\n",
    "\n",
    "# TASK 3: Calculate the number and occurrence of mission outcomes\n",
    "print(\"\\n=== TASK 3: MISSION OUTCOMES ANALYSIS ===\")\n",
    "landing_outcomes = df['Outcome'].value_counts()\n",
    "print(\"Landing outcomes frequency:\")\n",
    "print(landing_outcomes)\n",
    "\n",
    "print(\"\\nDetailed outcome analysis:\")\n",
    "for i, (outcome, count) in enumerate(landing_outcomes.items()):\n",
    "    percentage = (count / len(df)) * 100\n",
    "    print(f\"{i}: {outcome} - {count} occurrences ({percentage:.1f}%)\")\n",
    "\n",
    "# Identify bad outcomes (unsuccessful landings)\n",
    "print(\"\\n=== IDENTIFYING UNSUCCESSFUL LANDINGS ===\")\n",
    "# Based on the outcome analysis, unsuccessful outcomes are typically:\n",
    "# - False Ocean, False RTLS, False ASDS (failed landing attempts)\n",
    "# - None ASDS, None None (no landing attempt/failure to land)\n",
    "\n",
    "# Get the keys (outcome names) as a list to access by index\n",
    "outcome_keys = list(landing_outcomes.keys())\n",
    "print(\"All outcome types:\")\n",
    "for i, outcome in enumerate(outcome_keys):\n",
    "    print(f\"{i}: {outcome}\")\n",
    "\n",
    "# Define bad outcomes (unsuccessful landings)\n",
    "# Typically indices 1, 3, 5, 6, 7 represent unsuccessful outcomes\n",
    "# But let's be more explicit about which outcomes are bad\n",
    "bad_outcomes = set()\n",
    "for outcome in outcome_keys:\n",
    "    if ('False' in outcome or 'None' in outcome):\n",
    "        bad_outcomes.add(outcome)\n",
    "\n",
    "print(f\"\\nBad outcomes (unsuccessful landings): {bad_outcomes}\")\n",
    "\n",
    "# TASK 4: Create a landing outcome label from Outcome column\n",
    "print(\"\\n=== TASK 4: CREATING LANDING CLASS LABELS ===\")\n",
    "\n",
    "# Create landing_class: 0 for bad outcomes, 1 for successful outcomes\n",
    "landing_class = []\n",
    "for outcome in df['Outcome']:\n",
    "    if outcome in bad_outcomes:\n",
    "        landing_class.append(0)  # Unsuccessful landing\n",
    "    else:\n",
    "        landing_class.append(1)  # Successful landing\n",
    "\n",
    "# Add the Class column to the dataframe\n",
    "df['Class'] = landing_class\n",
    "\n",
    "print(\"Landing class labels created!\")\n",
    "print(f\"Total unsuccessful landings (Class=0): {landing_class.count(0)}\")\n",
    "print(f\"Total successful landings (Class=1): {landing_class.count(1)}\")\n",
    "\n",
    "# Display the first few rows with the new Class column\n",
    "print(\"\\nFirst 8 rows showing the new Class column:\")\n",
    "print(df[['Outcome', 'Class']].head(8))\n",
    "\n",
    "# Calculate success rate\n",
    "success_rate = df['Class'].mean()\n",
    "print(f\"\\n=== SUCCESS RATE ANALYSIS ===\")\n",
    "print(f\"Overall success rate: {success_rate:.4f} ({success_rate*100:.2f}%)\")\n",
    "\n",
    "# Display final dataset summary\n",
    "print(\"\\n=== FINAL DATASET SUMMARY ===\")\n",
    "print(f\"Total launches: {len(df)}\")\n",
    "print(f\"Successful landings: {df['Class'].sum()}\")\n",
    "print(f\"Unsuccessful landings: {len(df) - df['Class'].sum()}\")\n",
    "print(f\"Success rate: {success_rate*100:.2f}%\")\n",
    "\n",
    "# Show the complete dataset with key columns\n",
    "print(\"\\nFinal dataset preview (first 5 rows):\")\n",
    "key_columns = ['FlightNumber', 'Date', 'LaunchSite', 'Orbit', 'Outcome', 'Class']\n",
    "print(df[key_columns].head())\n",
    "\n",
    "# Show class distribution\n",
    "print(\"\\n=== CLASS DISTRIBUTION ===\")\n",
    "class_distribution = df['Class'].value_counts().sort_index()\n",
    "print(\"Class distribution:\")\n",
    "for class_val, count in class_distribution.items():\n",
    "    class_name = \"Unsuccessful\" if class_val == 0 else \"Successful\"\n",
    "    percentage = (count / len(df)) * 100\n",
    "    print(f\"Class {class_val} ({class_name}): {count} ({percentage:.1f}%)\")\n",
    "\n",
    "# Additional analysis: Success rate by launch site\n",
    "print(\"\\n=== SUCCESS RATE BY LAUNCH SITE ===\")\n",
    "site_success = df.groupby('LaunchSite')['Class'].agg(['count', 'sum', 'mean'])\n",
    "site_success.columns = ['Total_Launches', 'Successful_Landings', 'Success_Rate']\n",
    "site_success['Success_Percentage'] = site_success['Success_Rate'] * 100\n",
    "print(site_success.round(4))\n",
    "\n",
    "# Success rate by orbit type\n",
    "print(\"\\n=== SUCCESS RATE BY ORBIT TYPE ===\")\n",
    "orbit_success = df.groupby('Orbit')['Class'].agg(['count', 'sum', 'mean'])\n",
    "orbit_success.columns = ['Total_Launches', 'Successful_Landings', 'Success_Rate']\n",
    "orbit_success['Success_Percentage'] = orbit_success['Success_Rate'] * 100\n",
    "# Sort by success rate\n",
    "orbit_success_sorted = orbit_success.sort_values('Success_Rate', ascending=False)\n",
    "print(orbit_success_sorted.round(4))\n",
    "\n",
    "print(\"\\n=== DATA WRANGLING COMPLETED ===\")\n",
    "print(\"The dataset is now ready for machine learning!\")\n",
    "print(\"Key achievements:\")\n",
    "print(\"1. ✓ Analyzed missing values\")\n",
    "print(\"2. ✓ Identified data types\")\n",
    "print(\"3. ✓ Calculated launches per site\")\n",
    "print(\"4. ✓ Analyzed orbit distributions\")\n",
    "print(\"5. ✓ Created binary classification labels\")\n",
    "print(\"6. ✓ Calculated overall success rate\")\n",
    "print(\"7. ✓ Analyzed success rates by site and orbit\")\n",
    "\n",
    "# Optional: Save the processed dataset\n",
    "# df.to_csv(\"dataset_part_2.csv\", index=False)\n",
    "# print(\"\\nDataset saved as 'dataset_part_2.csv'\")"
   ]
  },
  {
   "cell_type": "markdown",
   "metadata": {},
   "source": [
    "## Authors\n"
   ]
  },
  {
   "cell_type": "markdown",
   "metadata": {},
   "source": [
    "<a href=\"https://www.linkedin.com/in/joseph-s-50398b136/\">Joseph Santarcangelo</a> has a PhD in Electrical Engineering, his research focused on using machine learning, signal processing, and computer vision to determine how videos impact human cognition. Joseph has been working for IBM since he completed his PhD.\n"
   ]
  },
  {
   "cell_type": "markdown",
   "metadata": {},
   "source": [
    "<a href=\"https://www.linkedin.com/in/nayefaboutayoun/\">Nayef Abou Tayoun</a> is a Data Scientist at IBM and pursuing a Master of Management in Artificial intelligence degree at Queen's University.\n"
   ]
  },
  {
   "cell_type": "markdown",
   "metadata": {},
   "source": [
    "<!--\n",
    "## Change Log\n",
    "-->\n"
   ]
  },
  {
   "cell_type": "markdown",
   "metadata": {},
   "source": [
    "<!--\n",
    "| Date (YYYY-MM-DD) | Version | Changed By | Change Description      |\n",
    "| ----------------- | ------- | ---------- | ----------------------- |\n",
    "| 2021-08-31        | 1.1     | Lakshmi Holla    | Changed Markdown |\n",
    "| 2020-09-20        | 1.0     | Joseph     | Modified Multiple Areas |\n",
    "| 2020-11-04        | 1.1.    | Nayef      | updating the input data |\n",
    "| 2021-05-026       | 1.1.    | Joseph      | updating the input data |\n",
    "-->\n"
   ]
  },
  {
   "cell_type": "markdown",
   "metadata": {},
   "source": [
    "Copyright © 2021 IBM Corporation. All rights reserved.\n"
   ]
  }
 ],
 "metadata": {
  "kernelspec": {
   "display_name": "Python 3 (ipykernel)",
   "language": "python",
   "name": "python3"
  },
  "language_info": {
   "codemirror_mode": {
    "name": "ipython",
    "version": 3
   },
   "file_extension": ".py",
   "mimetype": "text/x-python",
   "name": "python",
   "nbconvert_exporter": "python",
   "pygments_lexer": "ipython3",
   "version": "3.10.14"
  },
  "prev_pub_hash": "489c82f6b50cd749a6989b32709fa6722970710ac5090b645e53e7c8e87c0dd5"
 },
 "nbformat": 4,
 "nbformat_minor": 4
}
